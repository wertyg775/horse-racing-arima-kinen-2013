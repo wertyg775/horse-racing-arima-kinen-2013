{
 "cells": [
  {
   "cell_type": "code",
   "execution_count": 11,
   "id": "c449cfcb-c520-4226-90bd-defc2a5c9157",
   "metadata": {},
   "outputs": [],
   "source": [
    "import pandas as pd\n",
    "import numpy as np\n",
    "from sklearn.ensemble import RandomForestClassifier\n",
    "from sklearn.model_selection import train_test_split\n",
    "from sklearn.metrics import roc_auc_score, accuracy_score, classification_report\n",
    "from sklearn.preprocessing import OneHotEncoder\n",
    "from sklearn.compose import ColumnTransformer\n",
    "from sklearn.pipeline import Pipeline\n",
    "from sklearn.impute import SimpleImputer\n",
    "import matplotlib.pyplot as plt"
   ]
  },
  {
   "cell_type": "code",
   "execution_count": 12,
   "id": "be5b6abd-65e9-433c-9c16-844da92a8eb9",
   "metadata": {},
   "outputs": [],
   "source": [
    "import joblib\n",
    "import sklearn\n",
    "import streamlit as st\n",
    "import scipy"
   ]
  },
  {
   "cell_type": "code",
   "execution_count": 13,
   "id": "c727f95d-0409-42eb-842b-8e69133eecdc",
   "metadata": {},
   "outputs": [],
   "source": [
    "def make_features(df):\n",
    "    \"\"\"\n",
    "    Aggregate horse-level features from historical races.\n",
    "    Column names are consistent with model training schema.\n",
    "    \"\"\"\n",
    "    df = df.sort_values(['Horse', 'RaceDate'])\n",
    "    arima_date = pd.Timestamp('2013-12-22')\n",
    "\n",
    "    features = (\n",
    "        df.groupby('Horse')\n",
    "        .apply(lambda g: pd.Series({\n",
    "            'AvgPlacement_Last3': g['Finish'].rolling(3, min_periods=1).mean().iloc[-1],  # recent placement form\n",
    "            'Speed_kph': g['Speed_kph'].mean(),\n",
    "            'PosChange': g['PosChange'].mean(),\n",
    "            'FinalCornerPos': g['FinalCornerPos'].mean(),\n",
    "            'DaysSinceLastRace': (arima_date - g['RaceDate'].max()).days,\n",
    "        }))\n",
    "        .reset_index()\n",
    "    )\n",
    "\n",
    "    # Add race context for Arima Kinen 2013\n",
    "    features['Distance'] = 2500\n",
    "    features['RaceGrade_numeric'] = 3\n",
    "    features['Course'] = 'NAK'\n",
    "    features['Track'] = 'Turf'\n",
    "    features['Runners'] = 16\n",
    "\n",
    "    print(f\"✅ Created {len(features)} feature rows (one per horse).\")\n",
    "    return features"
   ]
  },
  {
   "cell_type": "code",
   "execution_count": 14,
   "id": "89458ccc-b27f-41f4-87ee-1eb5814c2635",
   "metadata": {},
   "outputs": [],
   "source": [
    "def build_pipeline(numeric_cols, categorical_cols):\n",
    "    \"\"\"Creates preprocessing + model pipeline for classification.\"\"\"\n",
    "    numeric_transformer = SimpleImputer(strategy='median')\n",
    "    categorical_transformer = Pipeline(steps=[\n",
    "        ('imputer', SimpleImputer(strategy='most_frequent')),\n",
    "        ('onehot', OneHotEncoder(handle_unknown='ignore'))\n",
    "    ])\n",
    "\n",
    "    preprocessor = ColumnTransformer(\n",
    "        transformers=[\n",
    "            ('num', numeric_transformer, numeric_cols),\n",
    "            ('cat', categorical_transformer, categorical_cols)\n",
    "        ]\n",
    "    )\n",
    "\n",
    "    model = RandomForestClassifier(\n",
    "        n_estimators=300,\n",
    "        max_depth=8,\n",
    "        random_state=42,\n",
    "        n_jobs=-1\n",
    "    )\n",
    "\n",
    "    pipeline = Pipeline(steps=[\n",
    "        ('preprocessor', preprocessor),\n",
    "        ('classifier', model)\n",
    "    ])\n",
    "    return pipeline\n"
   ]
  },
  {
   "cell_type": "code",
   "execution_count": 15,
   "id": "d44bf53e-4e32-4ee9-8d94-940816c466f7",
   "metadata": {},
   "outputs": [],
   "source": [
    "def train_model(df, feature_cols, target_col='Win'):\n",
    "    \"\"\"Trains the model using the provided dataset.\"\"\"\n",
    "    X = df[feature_cols]\n",
    "    y = df[target_col]\n",
    "\n",
    "    X_train, X_val, y_train, y_val = train_test_split(X, y, test_size=0.2, random_state=42, stratify=y)\n",
    "\n",
    "    # Separate numeric and categorical columns\n",
    "    numeric_cols = X_train.select_dtypes(include=[np.number]).columns.tolist()\n",
    "    categorical_cols = list(set(feature_cols) - set(numeric_cols))\n",
    "\n",
    "    pipeline = build_pipeline(numeric_cols, categorical_cols)\n",
    "\n",
    "    print(\"🚀 Training model...\")\n",
    "    pipeline.fit(X_train, y_train)\n",
    "\n",
    "    print(\"✅ Model training complete.\")\n",
    "\n",
    "    # Evaluate\n",
    "    y_pred = pipeline.predict(X_val)\n",
    "    y_prob = pipeline.predict_proba(X_val)[:, 1]\n",
    "\n",
    "    print(\"\\n📊 Validation Results:\")\n",
    "    print(\"Accuracy:\", round(accuracy_score(y_val, y_pred), 4))\n",
    "    print(\"ROC-AUC:\", round(roc_auc_score(y_val, y_prob), 4))\n",
    "    print(\"\\nClassification Report:\\n\", classification_report(y_val, y_pred))\n",
    "\n",
    "    return pipeline\n"
   ]
  },
  {
   "cell_type": "code",
   "execution_count": 16,
   "id": "99033aeb-376c-4352-9cd9-9661ebbf886d",
   "metadata": {},
   "outputs": [],
   "source": [
    "def predict_race(model, race_df, feature_cols):\n",
    "    \"\"\"Predict win probabilities for each horse in a race.\"\"\"\n",
    "    X_race = race_df[feature_cols]\n",
    "    race_df['Win_Prob'] = model.predict_proba(X_race)[:, 1]\n",
    "    race_df['Win_Prob_Normalized'] = race_df['Win_Prob'] / race_df['Win_Prob'].sum()\n",
    "\n",
    "    leaderboard = race_df[['Horse', 'Win_Prob', 'Win_Prob_Normalized']].sort_values(\n",
    "        'Win_Prob', ascending=False\n",
    "    ).reset_index(drop=True)\n",
    "\n",
    "    print(\"\\n🏇 Predicted Win Probabilities:\")\n",
    "    print(leaderboard)\n",
    "    return leaderboard"
   ]
  },
  {
   "cell_type": "code",
   "execution_count": 17,
   "id": "b57ae262-1f6b-496b-b54b-b38e3815f73c",
   "metadata": {},
   "outputs": [],
   "source": [
    "def plot_feature_importance(model):\n",
    "    \"\"\"Plot feature importances from RandomForest.\"\"\"\n",
    "    rf = model.named_steps['classifier']\n",
    "    preprocessor = model.named_steps['preprocessor']\n",
    "\n",
    "    cat_features = preprocessor.named_transformers_['cat'].named_steps['onehot'].get_feature_names_out()\n",
    "    num_features = preprocessor.transformers_[0][2]\n",
    "    all_features = np.concatenate([num_features, cat_features])\n",
    "\n",
    "    importances = rf.feature_importances_\n",
    "    imp_df = pd.DataFrame({'Feature': all_features, 'Importance': importances}).sort_values('Importance', ascending=False)\n",
    "\n",
    "    plt.figure(figsize=(8, 5))\n",
    "    plt.barh(imp_df['Feature'], imp_df['Importance'])\n",
    "    plt.gca().invert_yaxis()\n",
    "    plt.title('Feature Importance – Race Win Prediction Model')\n",
    "    plt.show()\n"
   ]
  },
  {
   "cell_type": "code",
   "execution_count": 18,
   "id": "dfea56e9-231d-4787-9a24-3f56b0a5609c",
   "metadata": {},
   "outputs": [],
   "source": [
    "def run_pipeline(df):\n",
    "    # Step 1: Create per-horse features\n",
    "    features = make_features(df)\n",
    "\n",
    "    # Step 2: Define features used for training and prediction\n",
    "    feature_cols = [\n",
    "        'Speed_kph', 'PosChange', 'FinalCornerPos', 'Runners',    \n",
    "        'AvgPlacement_Last3', 'DaysSinceLastRace',  'Distance',\n",
    "        'RaceGrade_numeric',  'Course', 'Track', \n",
    "    ]\n",
    "\n",
    "    # Step 3: Train on all historical races\n",
    "    model = train_model(df, feature_cols)\n",
    "\n",
    "    # Step 4: Predict on Arima Kinen 2013 horses\n",
    "    leaderboard = predict_race(model, features, feature_cols)\n",
    "\n",
    "    # Step 5: Plot feature importance\n",
    "    plot_feature_importance(model)\n",
    "\n",
    "    return leaderboard, model"
   ]
  },
  {
   "cell_type": "code",
   "execution_count": 21,
   "id": "a7c4a0e4-c6e3-449c-bee5-32f47b1d4549",
   "metadata": {},
   "outputs": [],
   "source": [
    "df = pd.read_excel(r\"C:\\Users\\User\\Documents\\horse-racing-arima-kinen-2013\\data\\processed\\cleaned.xlsx\")"
   ]
  },
  {
   "cell_type": "code",
   "execution_count": 22,
   "id": "01b34f78-a63b-4a1a-9bf7-a1051c176509",
   "metadata": {},
   "outputs": [
    {
     "name": "stderr",
     "output_type": "stream",
     "text": [
      "C:\\Users\\User\\AppData\\Local\\Temp\\ipykernel_20940\\2987579811.py:11: DeprecationWarning: DataFrameGroupBy.apply operated on the grouping columns. This behavior is deprecated, and in a future version of pandas the grouping columns will be excluded from the operation. Either pass `include_groups=False` to exclude the groupings or explicitly select the grouping columns after groupby to silence this warning.\n",
      "  .apply(lambda g: pd.Series({\n"
     ]
    },
    {
     "name": "stdout",
     "output_type": "stream",
     "text": [
      "✅ Created 16 feature rows (one per horse).\n",
      "🚀 Training model...\n",
      "✅ Model training complete.\n",
      "\n",
      "📊 Validation Results:\n",
      "Accuracy: 0.6721\n",
      "ROC-AUC: 0.584\n",
      "\n",
      "Classification Report:\n",
      "               precision    recall  f1-score   support\n",
      "\n",
      "           0       0.69      0.95      0.80        42\n",
      "           1       0.33      0.05      0.09        19\n",
      "\n",
      "    accuracy                           0.67        61\n",
      "   macro avg       0.51      0.50      0.45        61\n",
      "weighted avg       0.58      0.67      0.58        61\n",
      "\n",
      "\n",
      "🏇 Predicted Win Probabilities:\n",
      "               Horse  Win_Prob  Win_Prob_Normalized\n",
      "0            Orfevre  0.356330             0.160933\n",
      "1          Gold Ship  0.209051             0.094416\n",
      "2      Win Variation  0.193287             0.087296\n",
      "3       Admire Rakti  0.161534             0.072955\n",
      "4     Curren Mirotic  0.155217             0.070102\n",
      "5         Lovely Day  0.142941             0.064558\n",
      "6        Verde Green  0.139492             0.063000\n",
      "7      Danon Ballade  0.123181             0.055633\n",
      "8   Tamamo Best Play  0.118573             0.053553\n",
      "9        T M Inazuma  0.110512             0.049912\n",
      "10         Desperado  0.107554             0.048576\n",
      "11   Nakayama Knight  0.094534             0.042695\n",
      "12  Love Is Boo Shet  0.090281             0.040775\n",
      "13      Tosen Jordan  0.081610             0.036858\n",
      "14      To The Glory  0.079455             0.035885\n",
      "15           Lelouch  0.050599             0.022853\n"
     ]
    },
    {
     "data": {
      "image/png": "[encoded data removed]",
      "text/plain": [
       "<Figure size 800x500 with 1 Axes>"
      ]
     },
     "metadata": {},
     "output_type": "display_data"
    }
   ],
   "source": [
    "leaderboard, model = run_pipeline(df)"
   ]
  },
  {
   "cell_type": "code",
   "execution_count": 23,
   "id": "c4b79d51-b777-4113-b471-e63828e08176",
   "metadata": {},
   "outputs": [
    {
     "name": "stdout",
     "output_type": "stream",
     "text": [
      "✅ Model saved (using cloudpickle) as arima_model.pkl\n"
     ]
    }
   ],
   "source": [
    "import cloudpickle\n",
    "\n",
    "with open(r\"C:\\Users\\User\\Documents\\horse-racing-arima-kinen-2013\\models\\arima_model.pkl\", \"wb\") as f:\n",
    "    cloudpickle.dump(model, f)\n",
    "\n",
    "print(\"✅ Model saved (using cloudpickle) as arima_model.pkl\")\n"
   ]
  },
  {
   "cell_type": "code",
   "execution_count": 24,
   "id": "1563ac5f-eb66-43fd-b11d-289408fa0d0d",
   "metadata": {},
   "outputs": [
    {
     "name": "stdout",
     "output_type": "stream",
     "text": [
      "✅ Created 16 feature rows (one per horse).\n",
      "✅ Features saved as arima_kinen_features.csv\n"
     ]
    },
    {
     "name": "stderr",
     "output_type": "stream",
     "text": [
      "C:\\Users\\User\\AppData\\Local\\Temp\\ipykernel_20940\\2987579811.py:11: DeprecationWarning: DataFrameGroupBy.apply operated on the grouping columns. This behavior is deprecated, and in a future version of pandas the grouping columns will be excluded from the operation. Either pass `include_groups=False` to exclude the groupings or explicitly select the grouping columns after groupby to silence this warning.\n",
      "  .apply(lambda g: pd.Series({\n"
     ]
    }
   ],
   "source": [
    "features = make_features(df)\n",
    "features.to_csv(r\"C:\\Users\\User\\Documents\\horse-racing-arima-kinen-2013\\data\\processed\\arima_kinen_features.csv\", index=False)\n",
    "print(\"✅ Features saved as arima_kinen_features.csv\")"
   ]
  },
  {
   "cell_type": "code",
   "execution_count": 25,
   "id": "c1b71f99-8518-4b9f-ba2b-d2fb6dc8e39c",
   "metadata": {},
   "outputs": [
    {
     "name": "stdout",
     "output_type": "stream",
     "text": [
      "✅ Leaderboard saved as arima_kinen_predictions.csv\n"
     ]
    }
   ],
   "source": [
    "leaderboard.to_csv(r\"C:\\Users\\User\\Documents\\horse-racing-arima-kinen-2013\\data\\processed\\arima_kinen_predictions.csv\", index=False)\n",
    "print(\"✅ Leaderboard saved as arima_kinen_predictions.csv\")"
   ]
  },
  {
   "cell_type": "code",
   "execution_count": null,
   "id": "3eb08a2f-7a77-456a-9f1b-c382db8a6a6f",
   "metadata": {},
   "outputs": [],
   "source": []
  }
 ],
 "metadata": {
  "kernelspec": {
   "display_name": "Python 3 (ipykernel)",
   "language": "python",
   "name": "python3"
  },
  "language_info": {
   "codemirror_mode": {
    "name": "ipython",
    "version": 3
   },
   "file_extension": ".py",
   "mimetype": "text/x-python",
   "name": "python",
   "nbconvert_exporter": "python",
   "pygments_lexer": "ipython3",
   "version": "3.13.2"
  }
 },
 "nbformat": 4,
 "nbformat_minor": 5
}
