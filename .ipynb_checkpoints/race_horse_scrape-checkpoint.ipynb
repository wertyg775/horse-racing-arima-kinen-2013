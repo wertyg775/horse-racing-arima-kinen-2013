{
  "nbformat": 4,
  "nbformat_minor": 0,
  "metadata": {
    "colab": {
      "provenance": []
    },
    "kernelspec": {
      "name": "python3",
      "display_name": "Python 3"
    },
    "language_info": {
      "name": "python"
    }
  },
  "cells": [
    {
      "cell_type": "code",
      "execution_count": 1,
      "metadata": {
        "id": "3YVkkH8KmYMM"
      },
      "outputs": [],
      "source": [
        "import requests\n",
        "import pandas as pd\n",
        "from google.colab import files"
      ]
    },
    {
      "cell_type": "code",
      "source": [
        "import requests\n",
        "import pandas as pd\n",
        "\n",
        "def scrape_horse(url, horse_name=None):\n",
        "    response = requests.get(url)\n",
        "    dfs = pd.read_html(response.text)\n",
        "\n",
        "    if not dfs:\n",
        "        return None\n",
        "\n",
        "    df = dfs[2]  # first table = race history\n",
        "    df['Horse'] = horse_name if horse_name else url.split(\"/\")[-2]  # take ID from URL if name not given\n",
        "    return df\n",
        "\n",
        "\n",
        "\n",
        "\n"
      ],
      "metadata": {
        "id": "JrVi60U1mk02"
      },
      "execution_count": 2,
      "outputs": []
    },
    {
      "cell_type": "code",
      "source": [
        "horse_urls = {\n",
        "    \"https://en.netkeiba.com/db/horse/result/2008102636/\": \"Orfevre\",\n",
        "    \"https://en.netkeiba.com/db/horse/result/2008103206/\": \"Win Variation\",\n",
        "    \"https://en.netkeiba.com/db/horse/result/2009102739/\": \"Gold Ship\",\n",
        "    \"https://en.netkeiba.com/db/horse/result/2009101075/\": \"Love Is Boo Shet\",\n",
        "    \"https://en.netkeiba.com/db/horse/result/2010104866/\": \"Tamamo Best Play\",\n",
        "    \"https://en.netkeiba.com/db/horse/result/2008103192/\": \"Curren Mirotic\",\n",
        "    \"https://en.netkeiba.com/db/horse/result/2008100484/\": \"Desperado\",\n",
        "    \"https://en.netkeiba.com/db/horse/result/2007103265/\": \"To The Glory\",\n",
        "    \"https://en.netkeiba.com/db/horse/result/2010100356/\": \"T M Inazuma\",\n",
        "    \"https://en.netkeiba.com/db/horse/result/2008104514/\": \"Verde Green\",\n",
        "    \"https://en.netkeiba.com/db/horse/result/2008103079/\": \"Admire Rakti\",\n",
        "    \"https://en.netkeiba.com/db/horse/result/2010104298/\": \"Lovely Day\",\n",
        "    \"https://en.netkeiba.com/db/horse/result/2008105362/\": \"Nakayama Knight\",\n",
        "    \"https://en.netkeiba.com/db/horse/result/2006103169/\": \"Tosen Jordan\",\n",
        "    \"https://en.netkeiba.com/db/horse/result/2008103548/\": \"Danon Ballade\",\n",
        "    \"https://en.netkeiba.com/db/horse/result/2008102912/\": \"Lelouch\",\n",
        "\n",
        "\n",
        "}\n",
        "\n",
        "all_horse = pd.DataFrame()\n",
        "\n",
        "for url, name in horse_urls.items():\n",
        "    df = scrape_horse(url, name)\n",
        "    if df is not None:\n",
        "        all_horse = pd.concat([all_horse, df], ignore_index=True)\n",
        "\n",
        "\n"
      ],
      "metadata": {
        "colab": {
          "base_uri": "https://localhost:8080/"
        },
        "id": "Ziu4tvE3nUYA",
        "outputId": "66665609-a1f7-47a3-a189-638d601f915e"
      },
      "execution_count": 3,
      "outputs": [
        {
          "output_type": "stream",
          "name": "stderr",
          "text": [
            "/tmp/ipython-input-481687030.py:6: FutureWarning: Passing literal html to 'read_html' is deprecated and will be removed in a future version. To read from a literal string, wrap it in a 'StringIO' object.\n",
            "  dfs = pd.read_html(response.text)\n",
            "/tmp/ipython-input-481687030.py:6: FutureWarning: Passing literal html to 'read_html' is deprecated and will be removed in a future version. To read from a literal string, wrap it in a 'StringIO' object.\n",
            "  dfs = pd.read_html(response.text)\n",
            "/tmp/ipython-input-481687030.py:6: FutureWarning: Passing literal html to 'read_html' is deprecated and will be removed in a future version. To read from a literal string, wrap it in a 'StringIO' object.\n",
            "  dfs = pd.read_html(response.text)\n",
            "/tmp/ipython-input-481687030.py:6: FutureWarning: Passing literal html to 'read_html' is deprecated and will be removed in a future version. To read from a literal string, wrap it in a 'StringIO' object.\n",
            "  dfs = pd.read_html(response.text)\n",
            "/tmp/ipython-input-481687030.py:6: FutureWarning: Passing literal html to 'read_html' is deprecated and will be removed in a future version. To read from a literal string, wrap it in a 'StringIO' object.\n",
            "  dfs = pd.read_html(response.text)\n",
            "/tmp/ipython-input-481687030.py:6: FutureWarning: Passing literal html to 'read_html' is deprecated and will be removed in a future version. To read from a literal string, wrap it in a 'StringIO' object.\n",
            "  dfs = pd.read_html(response.text)\n",
            "/tmp/ipython-input-481687030.py:6: FutureWarning: Passing literal html to 'read_html' is deprecated and will be removed in a future version. To read from a literal string, wrap it in a 'StringIO' object.\n",
            "  dfs = pd.read_html(response.text)\n",
            "/tmp/ipython-input-481687030.py:6: FutureWarning: Passing literal html to 'read_html' is deprecated and will be removed in a future version. To read from a literal string, wrap it in a 'StringIO' object.\n",
            "  dfs = pd.read_html(response.text)\n",
            "/tmp/ipython-input-481687030.py:6: FutureWarning: Passing literal html to 'read_html' is deprecated and will be removed in a future version. To read from a literal string, wrap it in a 'StringIO' object.\n",
            "  dfs = pd.read_html(response.text)\n",
            "/tmp/ipython-input-481687030.py:6: FutureWarning: Passing literal html to 'read_html' is deprecated and will be removed in a future version. To read from a literal string, wrap it in a 'StringIO' object.\n",
            "  dfs = pd.read_html(response.text)\n",
            "/tmp/ipython-input-481687030.py:6: FutureWarning: Passing literal html to 'read_html' is deprecated and will be removed in a future version. To read from a literal string, wrap it in a 'StringIO' object.\n",
            "  dfs = pd.read_html(response.text)\n",
            "/tmp/ipython-input-481687030.py:6: FutureWarning: Passing literal html to 'read_html' is deprecated and will be removed in a future version. To read from a literal string, wrap it in a 'StringIO' object.\n",
            "  dfs = pd.read_html(response.text)\n",
            "/tmp/ipython-input-481687030.py:6: FutureWarning: Passing literal html to 'read_html' is deprecated and will be removed in a future version. To read from a literal string, wrap it in a 'StringIO' object.\n",
            "  dfs = pd.read_html(response.text)\n",
            "/tmp/ipython-input-481687030.py:6: FutureWarning: Passing literal html to 'read_html' is deprecated and will be removed in a future version. To read from a literal string, wrap it in a 'StringIO' object.\n",
            "  dfs = pd.read_html(response.text)\n",
            "/tmp/ipython-input-481687030.py:6: FutureWarning: Passing literal html to 'read_html' is deprecated and will be removed in a future version. To read from a literal string, wrap it in a 'StringIO' object.\n",
            "  dfs = pd.read_html(response.text)\n",
            "/tmp/ipython-input-481687030.py:6: FutureWarning: Passing literal html to 'read_html' is deprecated and will be removed in a future version. To read from a literal string, wrap it in a 'StringIO' object.\n",
            "  dfs = pd.read_html(response.text)\n"
          ]
        }
      ]
    },
    {
      "cell_type": "code",
      "source": [
        "print(all_horse.head(25))"
      ],
      "metadata": {
        "colab": {
          "base_uri": "https://localhost:8080/"
        },
        "id": "qv1tdQM4pV_h",
        "outputId": "d77d3b6f-df4e-4ef7-f607-83e80acfaebb"
      },
      "execution_count": 6,
      "outputs": [
        {
          "output_type": "stream",
          "name": "stdout",
          "text": [
            "                                                 Race  Video   Fav Fin.  \\\n",
            "0   22 Dec 2013 NAK 10R ARIMA KINEN (THE GRAND PRI...    NaN   1.0    1   \n",
            "1          6 Oct 2013 5R Prix de l'Arc de Triomphe G1    NaN   1.0    2   \n",
            "2                          15 Sep 2013 6R Prix Foy G2    NaN   1.0    1   \n",
            "3             31 Mar 2013 HAN 11R SANKEI OSAKA HAI G2    NaN   1.0    1   \n",
            "4                    25 Nov 2012 TKY 11R JAPAN CUP G1    NaN   1.0    2   \n",
            "5          7 Oct 2012 6R Prix de l'Arc de Triomphe G1    NaN   2.0    2   \n",
            "6                          16 Sep 2012 3R Prix Foy G2    NaN   1.0    1   \n",
            "7             24 Jun 2012 HAN 11R TAKARAZUKA KINEN G1    NaN   1.0    1   \n",
            "8           29 Apr 2012 KYT 11R TENNO SHO (SPRING) G1    NaN   1.0   11   \n",
            "9            18 Mar 2012 HAN 11R HANSHIN DAISHOTEN G2    NaN   1.0    2   \n",
            "10  25 Dec 2011 NAK 10R ARIMA KINEN (THE GRAND PRI...    NaN   1.0    1   \n",
            "11  23 Oct 2011 KYT 11R KIKUKA SHO (JAPANESE ST.LE...    NaN   1.0    1   \n",
            "12            25 Sep 2011 HAN 11R KOBE SHIMBUN HAI G2    NaN   1.0    1   \n",
            "13  29 May 2011 TKY 11R TOKYO YUSHUN (JAPANESE DER...    NaN   1.0    1   \n",
            "14  24 Apr 2011 TKY 11R SATSUKI SHO (JAPANESE 2000...    NaN   4.0    1   \n",
            "15               26 Mar 2011 HAN 11R SPRING STAKES G2    NaN   1.0    1   \n",
            "16       6 Feb 2011 KYT 11R KISARAGI SHO (NHK SHO) G3    NaN   2.0    3   \n",
            "17  9 Jan 2011 KYT 11R NIKKAN SPORTS SHO SHINZAN K...    NaN   3.0    2   \n",
            "18       13 Nov 2010 TKY 11R KEIO HAI NISAI STAKES G2    NaN   1.0   10   \n",
            "19                   3 Oct 2010 NAK 9R FUYO STAKES OP    NaN   1.0    2   \n",
            "20                         14 Aug 2010 NGT 5R ２yo DBT    NaN   2.0    1   \n",
            "21           3 May 2015 KYT 11R TENNO SHO (SPRING) G1    NaN   6.0   12   \n",
            "22                  28 Mar 2015 NAK 11R NIKKEI SHO G2    NaN   5.0    2   \n",
            "23  28 Dec 2014 NAK 10R ARIMA KINEN (THE GRAND PRI...    NaN  10.0   12   \n",
            "24                    6 Dec 2014 CHU 11R KINKO SHO G2    NaN   3.0   15   \n",
            "\n",
            "              J  Wgt.  Odds  Rnrs   Bk  Draw  ... Gng.       FT Mrg.  \\\n",
            "0      K.Ikezoe  57.0   1.6  16.0  3.0     6  ...   Gd   2:32.3 -1.3   \n",
            "1   C.Soumillon  59.5   0.0  17.0  NaN     6  ...  Sft      NaN  NaN   \n",
            "2   C.Soumillon  58.0   0.0   NaN  NaN     7  ...  Sft  2:41.47  NaN   \n",
            "3      K.Ikezoe  58.0   1.2  14.0  4.0     5  ...   Gd   1:59.0 -0.1   \n",
            "4      K.Ikezoe  57.0   2.0  17.0  8.0    17  ...   Gd   2:23.1  0.0   \n",
            "5   C.Soumillon  59.5   0.0  18.0  NaN     6  ...  Sft      NaN  NaN   \n",
            "6   C.Soumillon  58.0   0.0   NaN  NaN     4  ...   GS  2:34.26  NaN   \n",
            "7      K.Ikezoe  58.0   3.2  16.0  6.0    11  ...   Gd   2:10.9 -0.3   \n",
            "8      K.Ikezoe  58.0   1.3  18.0  8.0    18  ...   Gd   3:15.6  1.8   \n",
            "9      K.Ikezoe  57.0   1.1  12.0  8.0    12  ...   GS   3:11.9  0.1   \n",
            "10     K.Ikezoe  55.0   2.2  13.0  6.0     9  ...   Gd   2:36.0 -0.1   \n",
            "11     K.Ikezoe  57.0   1.4  18.0  7.0    14  ...   Gd   3:02.8 -0.4   \n",
            "12     K.Ikezoe  56.0   1.7  11.0  6.0     7  ...   Gd   2:28.3 -0.4   \n",
            "13     K.Ikezoe  57.0   3.0  18.0  3.0     5  ...  Hvy   2:30.5 -0.3   \n",
            "14     K.Ikezoe  57.0  10.8  18.0  6.0    12  ...   Gd   2:00.6 -0.5   \n",
            "15     K.Ikezoe  56.0   4.7  18.0  3.0     6  ...   Gd   1:46.4 -0.1   \n",
            "16     K.Ikezoe  56.0   2.9  12.0  7.0    10  ...   Gd   1:47.8  0.2   \n",
            "17     K.Ikezoe  56.0  10.7  16.0  1.0     1  ...   Gd   1:34.2  0.2   \n",
            "18     K.Ikezoe  55.0   3.3  15.0  4.0     7  ...   Gd   1:22.6  0.8   \n",
            "19     K.Ikezoe  55.0   2.1   8.0  3.0     3  ...   Gd   1:35.3  0.0   \n",
            "20     K.Ikezoe  54.0   3.0  14.0  5.0     8  ...  Sft   1:37.4 -0.2   \n",
            "21   Y.Fukunaga  58.0  15.8  17.0  8.0    16  ...   Gd   3:15.8  1.1   \n",
            "22   Y.Fukunaga  57.0   7.3  12.0  3.0     3  ...   Gd   2:30.5  0.3   \n",
            "23    K.Fujioka  57.0  34.9  16.0  5.0     9  ...   Gd   2:35.9  0.6   \n",
            "24    K.Fujioka  57.0   5.4  17.0  7.0    13  ...   Gd   2:00.9  2.1   \n",
            "\n",
            "   Pos. at Bends    F3F-L3F   L3F Horse Wgt.  Winner (Runner-up)  \\\n",
            "0     13-13-12-2  30.3-36.7  36.0     466(0)     (Win Variation)   \n",
            "1            NaN        NaN   NaN        NaN                 NaN   \n",
            "2            NaN        NaN   NaN        NaN                 NaN   \n",
            "3      10-11-9-6  36.7-33.7  33.0    464(+6)     (Shonan Mighty)   \n",
            "4     12-13-10-3  35.8-34.7  32.9     458(0)         Gentildonna   \n",
            "5            NaN        NaN   NaN        NaN                 NaN   \n",
            "6            NaN        NaN   NaN        NaN                 NaN   \n",
            "7    11-11-12-12  34.3-35.3  34.7    456(-4)         (Rulership)   \n",
            "8    16-16-17-14  35.9-36.5  34.0    460(-2)          Beat Black   \n",
            "9        1-2-9-6  38.9-37.3  36.7     462(0)         Gustave Cry   \n",
            "10     11-10-8-5  31.2-34.0  33.3    462(-4)      (Eishin Flash)   \n",
            "11     10-10-6-3  36.9-35.1  34.6    466(+6)     (Win Variation)   \n",
            "12       5-5-5-5  37.2-33.6  32.8   460(+16)     (Win Variation)   \n",
            "13   14-14-14-12  36.8-36.5  34.8    444(+4)     (Win Variation)   \n",
            "14      12-11-11  36.4-35.3  34.2    440(-4)      (Sadamu Patek)   \n",
            "15          11-9  35.0-34.8  34.3    444(-6)        (Belshazzar)   \n",
            "16           9-7  35.3-35.4  33.2    450(-6)            Tosen Ra   \n",
            "17          10-8  35.1-35.2  33.5    456(+2)           Red Davis   \n",
            "18         11-12  35.1-34.3  33.8    454(+4)     Grand Prix Boss   \n",
            "19         6-5-5  36.4-34.8  34.5    450(+2)       Whale Capture   \n",
            "20           7-7  37.6-33.6  33.4     448(0)    (Shonan Parfait)   \n",
            "21      8-9-10-9  36.1-35.3  35.6    528(+2)           Gold Ship   \n",
            "22       5-5-5-3  29.8-35.1  34.7    526(-4)         Admire Deus   \n",
            "23    10-11-10-7  31.1-34.6  34.1    530(-4)         Gentildonna   \n",
            "24   12-12-13-13  35.7-35.4  36.1   534(+12)         Last Impact   \n",
            "\n",
            "   Prize (¥ mil)          Horse  \n",
            "0         203.40        Orfevre  \n",
            "1            NaN        Orfevre  \n",
            "2            NaN        Orfevre  \n",
            "3          60.98        Orfevre  \n",
            "4         101.02        Orfevre  \n",
            "5            NaN        Orfevre  \n",
            "6            NaN        Orfevre  \n",
            "7         135.44        Orfevre  \n",
            "8            NaN        Orfevre  \n",
            "9          24.26        Orfevre  \n",
            "10        203.02        Orfevre  \n",
            "11        149.81        Orfevre  \n",
            "12         54.94        Orfevre  \n",
            "13        186.26        Orfevre  \n",
            "14        129.73        Orfevre  \n",
            "15         55.71        Orfevre  \n",
            "16          9.86        Orfevre  \n",
            "17         16.19        Orfevre  \n",
            "18           NaN        Orfevre  \n",
            "19          6.45        Orfevre  \n",
            "20          7.00        Orfevre  \n",
            "21           NaN  Win Variation  \n",
            "22         26.24  Win Variation  \n",
            "23           NaN  Win Variation  \n",
            "24           NaN  Win Variation  \n",
            "\n",
            "[25 rows x 22 columns]\n"
          ]
        }
      ]
    },
    {
      "cell_type": "code",
      "source": [
        "all_horse.to_excel(\"results.xlsx\", index=False)   # save in Colab VM\n",
        "files.download(\"results.xlsx\")             # prompt download to your Mac\n"
      ],
      "metadata": {
        "colab": {
          "base_uri": "https://localhost:8080/",
          "height": 17
        },
        "id": "GHSuKxhuzzBG",
        "outputId": "dbc0741f-6223-48ff-d926-716babd719a9"
      },
      "execution_count": 7,
      "outputs": [
        {
          "output_type": "display_data",
          "data": {
            "text/plain": [
              "<IPython.core.display.Javascript object>"
            ],
            "application/javascript": [
              "\n",
              "    async function download(id, filename, size) {\n",
              "      if (!google.colab.kernel.accessAllowed) {\n",
              "        return;\n",
              "      }\n",
              "      const div = document.createElement('div');\n",
              "      const label = document.createElement('label');\n",
              "      label.textContent = `Downloading \"${filename}\": `;\n",
              "      div.appendChild(label);\n",
              "      const progress = document.createElement('progress');\n",
              "      progress.max = size;\n",
              "      div.appendChild(progress);\n",
              "      document.body.appendChild(div);\n",
              "\n",
              "      const buffers = [];\n",
              "      let downloaded = 0;\n",
              "\n",
              "      const channel = await google.colab.kernel.comms.open(id);\n",
              "      // Send a message to notify the kernel that we're ready.\n",
              "      channel.send({})\n",
              "\n",
              "      for await (const message of channel.messages) {\n",
              "        // Send a message to notify the kernel that we're ready.\n",
              "        channel.send({})\n",
              "        if (message.buffers) {\n",
              "          for (const buffer of message.buffers) {\n",
              "            buffers.push(buffer);\n",
              "            downloaded += buffer.byteLength;\n",
              "            progress.value = downloaded;\n",
              "          }\n",
              "        }\n",
              "      }\n",
              "      const blob = new Blob(buffers, {type: 'application/binary'});\n",
              "      const a = document.createElement('a');\n",
              "      a.href = window.URL.createObjectURL(blob);\n",
              "      a.download = filename;\n",
              "      div.appendChild(a);\n",
              "      a.click();\n",
              "      div.remove();\n",
              "    }\n",
              "  "
            ]
          },
          "metadata": {}
        },
        {
          "output_type": "display_data",
          "data": {
            "text/plain": [
              "<IPython.core.display.Javascript object>"
            ],
            "application/javascript": [
              "download(\"download_1335865e-b74f-4656-af3a-3996f0fc1fa4\", \"results.xlsx\", 69168)"
            ]
          },
          "metadata": {}
        }
      ]
    }
  ]
}